{
  "cells": [
    {
      "cell_type": "markdown",
      "metadata": {
        "id": "view-in-github",
        "colab_type": "text"
      },
      "source": [
        "<a href=\"https://colab.research.google.com/github/shrutipingale/IS_699_Project/blob/master/Adjustment_Risk_Intelligence_Analytics_(ARIA)_Hackathon.ipynb\" target=\"_parent\"><img src=\"https://colab.research.google.com/assets/colab-badge.svg\" alt=\"Open In Colab\"/></a>"
      ]
    },
    {
      "cell_type": "code",
      "execution_count": null,
      "metadata": {
        "colab": {
          "base_uri": "https://localhost:8080/"
        },
        "id": "Yk6EsAHtxcyK",
        "outputId": "94f780f1-b395-4a85-d710-720c97257ec6"
      },
      "outputs": [
        {
          "output_type": "stream",
          "name": "stdout",
          "text": [
            "Python 3.11.13\n"
          ]
        }
      ],
      "source": [
        "!python --version"
      ]
    },
    {
      "cell_type": "code",
      "execution_count": null,
      "metadata": {
        "colab": {
          "base_uri": "https://localhost:8080/"
        },
        "collapsed": true,
        "id": "AkBg7_6FcKs1",
        "outputId": "dc472a28-4331-4693-a7ad-07e3fe999a83"
      },
      "outputs": [
        {
          "output_type": "stream",
          "name": "stdout",
          "text": [
            "Requirement already satisfied: ctgan in /usr/local/lib/python3.11/dist-packages (0.11.0)\n",
            "Requirement already satisfied: numpy>=1.23.3 in /usr/local/lib/python3.11/dist-packages (from ctgan) (2.0.2)\n",
            "Requirement already satisfied: pandas>=1.5.0 in /usr/local/lib/python3.11/dist-packages (from ctgan) (2.2.2)\n",
            "Requirement already satisfied: torch>=2.0.0 in /usr/local/lib/python3.11/dist-packages (from ctgan) (2.6.0+cu124)\n",
            "Requirement already satisfied: tqdm<5,>=4.29 in /usr/local/lib/python3.11/dist-packages (from ctgan) (4.67.1)\n",
            "Requirement already satisfied: rdt>=1.14.0 in /usr/local/lib/python3.11/dist-packages (from ctgan) (1.17.1)\n",
            "Requirement already satisfied: python-dateutil>=2.8.2 in /usr/local/lib/python3.11/dist-packages (from pandas>=1.5.0->ctgan) (2.9.0.post0)\n",
            "Requirement already satisfied: pytz>=2020.1 in /usr/local/lib/python3.11/dist-packages (from pandas>=1.5.0->ctgan) (2025.2)\n",
            "Requirement already satisfied: tzdata>=2022.7 in /usr/local/lib/python3.11/dist-packages (from pandas>=1.5.0->ctgan) (2025.2)\n",
            "Requirement already satisfied: scipy>=1.9.2 in /usr/local/lib/python3.11/dist-packages (from rdt>=1.14.0->ctgan) (1.15.3)\n",
            "Requirement already satisfied: scikit-learn>=1.1.3 in /usr/local/lib/python3.11/dist-packages (from rdt>=1.14.0->ctgan) (1.6.1)\n",
            "Requirement already satisfied: Faker>=17 in /usr/local/lib/python3.11/dist-packages (from rdt>=1.14.0->ctgan) (37.4.0)\n",
            "Requirement already satisfied: filelock in /usr/local/lib/python3.11/dist-packages (from torch>=2.0.0->ctgan) (3.18.0)\n",
            "Requirement already satisfied: typing-extensions>=4.10.0 in /usr/local/lib/python3.11/dist-packages (from torch>=2.0.0->ctgan) (4.14.0)\n",
            "Requirement already satisfied: networkx in /usr/local/lib/python3.11/dist-packages (from torch>=2.0.0->ctgan) (3.5)\n",
            "Requirement already satisfied: jinja2 in /usr/local/lib/python3.11/dist-packages (from torch>=2.0.0->ctgan) (3.1.6)\n",
            "Requirement already satisfied: fsspec in /usr/local/lib/python3.11/dist-packages (from torch>=2.0.0->ctgan) (2025.3.2)\n",
            "Requirement already satisfied: nvidia-cuda-nvrtc-cu12==12.4.127 in /usr/local/lib/python3.11/dist-packages (from torch>=2.0.0->ctgan) (12.4.127)\n",
            "Requirement already satisfied: nvidia-cuda-runtime-cu12==12.4.127 in /usr/local/lib/python3.11/dist-packages (from torch>=2.0.0->ctgan) (12.4.127)\n",
            "Requirement already satisfied: nvidia-cuda-cupti-cu12==12.4.127 in /usr/local/lib/python3.11/dist-packages (from torch>=2.0.0->ctgan) (12.4.127)\n",
            "Requirement already satisfied: nvidia-cudnn-cu12==9.1.0.70 in /usr/local/lib/python3.11/dist-packages (from torch>=2.0.0->ctgan) (9.1.0.70)\n",
            "Requirement already satisfied: nvidia-cublas-cu12==12.4.5.8 in /usr/local/lib/python3.11/dist-packages (from torch>=2.0.0->ctgan) (12.4.5.8)\n",
            "Requirement already satisfied: nvidia-cufft-cu12==11.2.1.3 in /usr/local/lib/python3.11/dist-packages (from torch>=2.0.0->ctgan) (11.2.1.3)\n",
            "Requirement already satisfied: nvidia-curand-cu12==10.3.5.147 in /usr/local/lib/python3.11/dist-packages (from torch>=2.0.0->ctgan) (10.3.5.147)\n",
            "Requirement already satisfied: nvidia-cusolver-cu12==11.6.1.9 in /usr/local/lib/python3.11/dist-packages (from torch>=2.0.0->ctgan) (11.6.1.9)\n",
            "Requirement already satisfied: nvidia-cusparse-cu12==12.3.1.170 in /usr/local/lib/python3.11/dist-packages (from torch>=2.0.0->ctgan) (12.3.1.170)\n",
            "Requirement already satisfied: nvidia-cusparselt-cu12==0.6.2 in /usr/local/lib/python3.11/dist-packages (from torch>=2.0.0->ctgan) (0.6.2)\n",
            "Requirement already satisfied: nvidia-nccl-cu12==2.21.5 in /usr/local/lib/python3.11/dist-packages (from torch>=2.0.0->ctgan) (2.21.5)\n",
            "Requirement already satisfied: nvidia-nvtx-cu12==12.4.127 in /usr/local/lib/python3.11/dist-packages (from torch>=2.0.0->ctgan) (12.4.127)\n",
            "Requirement already satisfied: nvidia-nvjitlink-cu12==12.4.127 in /usr/local/lib/python3.11/dist-packages (from torch>=2.0.0->ctgan) (12.4.127)\n",
            "Requirement already satisfied: triton==3.2.0 in /usr/local/lib/python3.11/dist-packages (from torch>=2.0.0->ctgan) (3.2.0)\n",
            "Requirement already satisfied: sympy==1.13.1 in /usr/local/lib/python3.11/dist-packages (from torch>=2.0.0->ctgan) (1.13.1)\n",
            "Requirement already satisfied: mpmath<1.4,>=1.1.0 in /usr/local/lib/python3.11/dist-packages (from sympy==1.13.1->torch>=2.0.0->ctgan) (1.3.0)\n",
            "Requirement already satisfied: six>=1.5 in /usr/local/lib/python3.11/dist-packages (from python-dateutil>=2.8.2->pandas>=1.5.0->ctgan) (1.17.0)\n",
            "Requirement already satisfied: joblib>=1.2.0 in /usr/local/lib/python3.11/dist-packages (from scikit-learn>=1.1.3->rdt>=1.14.0->ctgan) (1.5.1)\n",
            "Requirement already satisfied: threadpoolctl>=3.1.0 in /usr/local/lib/python3.11/dist-packages (from scikit-learn>=1.1.3->rdt>=1.14.0->ctgan) (3.6.0)\n",
            "Requirement already satisfied: MarkupSafe>=2.0 in /usr/local/lib/python3.11/dist-packages (from jinja2->torch>=2.0.0->ctgan) (3.0.2)\n",
            "Requirement already satisfied: sdv in /usr/local/lib/python3.11/dist-packages (1.23.0)\n",
            "Requirement already satisfied: boto3<2.0.0,>=1.28 in /usr/local/lib/python3.11/dist-packages (from sdv) (1.38.46)\n",
            "Requirement already satisfied: botocore<2.0.0,>=1.31 in /usr/local/lib/python3.11/dist-packages (from sdv) (1.38.46)\n",
            "Requirement already satisfied: cloudpickle>=2.1.0 in /usr/local/lib/python3.11/dist-packages (from sdv) (3.1.1)\n",
            "Requirement already satisfied: graphviz>=0.13.2 in /usr/local/lib/python3.11/dist-packages (from sdv) (0.21)\n",
            "Requirement already satisfied: numpy>=1.24.0 in /usr/local/lib/python3.11/dist-packages (from sdv) (2.0.2)\n",
            "Requirement already satisfied: pandas>=1.5.0 in /usr/local/lib/python3.11/dist-packages (from sdv) (2.2.2)\n",
            "Requirement already satisfied: tqdm>=4.29 in /usr/local/lib/python3.11/dist-packages (from sdv) (4.67.1)\n",
            "Requirement already satisfied: copulas>=0.12.1 in /usr/local/lib/python3.11/dist-packages (from sdv) (0.12.3)\n",
            "Requirement already satisfied: ctgan>=0.11.0 in /usr/local/lib/python3.11/dist-packages (from sdv) (0.11.0)\n",
            "Requirement already satisfied: deepecho>=0.7.0 in /usr/local/lib/python3.11/dist-packages (from sdv) (0.7.0)\n",
            "Requirement already satisfied: rdt>=1.17.0 in /usr/local/lib/python3.11/dist-packages (from sdv) (1.17.1)\n",
            "Requirement already satisfied: sdmetrics>=0.21.0 in /usr/local/lib/python3.11/dist-packages (from sdv) (0.21.0)\n",
            "Requirement already satisfied: platformdirs>=4.0 in /usr/local/lib/python3.11/dist-packages (from sdv) (4.3.8)\n",
            "Requirement already satisfied: pyyaml>=6.0.1 in /usr/local/lib/python3.11/dist-packages (from sdv) (6.0.2)\n",
            "Requirement already satisfied: jmespath<2.0.0,>=0.7.1 in /usr/local/lib/python3.11/dist-packages (from boto3<2.0.0,>=1.28->sdv) (1.0.1)\n",
            "Requirement already satisfied: s3transfer<0.14.0,>=0.13.0 in /usr/local/lib/python3.11/dist-packages (from boto3<2.0.0,>=1.28->sdv) (0.13.0)\n",
            "Requirement already satisfied: python-dateutil<3.0.0,>=2.1 in /usr/local/lib/python3.11/dist-packages (from botocore<2.0.0,>=1.31->sdv) (2.9.0.post0)\n",
            "Requirement already satisfied: urllib3!=2.2.0,<3,>=1.25.4 in /usr/local/lib/python3.11/dist-packages (from botocore<2.0.0,>=1.31->sdv) (2.4.0)\n",
            "Requirement already satisfied: plotly>=5.10.0 in /usr/local/lib/python3.11/dist-packages (from copulas>=0.12.1->sdv) (5.24.1)\n",
            "Requirement already satisfied: scipy>=1.9.2 in /usr/local/lib/python3.11/dist-packages (from copulas>=0.12.1->sdv) (1.15.3)\n",
            "Requirement already satisfied: torch>=2.0.0 in /usr/local/lib/python3.11/dist-packages (from ctgan>=0.11.0->sdv) (2.6.0+cu124)\n",
            "Requirement already satisfied: pytz>=2020.1 in /usr/local/lib/python3.11/dist-packages (from pandas>=1.5.0->sdv) (2025.2)\n",
            "Requirement already satisfied: tzdata>=2022.7 in /usr/local/lib/python3.11/dist-packages (from pandas>=1.5.0->sdv) (2025.2)\n",
            "Requirement already satisfied: scikit-learn>=1.1.3 in /usr/local/lib/python3.11/dist-packages (from rdt>=1.17.0->sdv) (1.6.1)\n",
            "Requirement already satisfied: Faker>=17 in /usr/local/lib/python3.11/dist-packages (from rdt>=1.17.0->sdv) (37.4.0)\n",
            "Requirement already satisfied: tenacity>=6.2.0 in /usr/local/lib/python3.11/dist-packages (from plotly>=5.10.0->copulas>=0.12.1->sdv) (8.5.0)\n",
            "Requirement already satisfied: packaging in /usr/local/lib/python3.11/dist-packages (from plotly>=5.10.0->copulas>=0.12.1->sdv) (24.2)\n",
            "Requirement already satisfied: six>=1.5 in /usr/local/lib/python3.11/dist-packages (from python-dateutil<3.0.0,>=2.1->botocore<2.0.0,>=1.31->sdv) (1.17.0)\n",
            "Requirement already satisfied: joblib>=1.2.0 in /usr/local/lib/python3.11/dist-packages (from scikit-learn>=1.1.3->rdt>=1.17.0->sdv) (1.5.1)\n",
            "Requirement already satisfied: threadpoolctl>=3.1.0 in /usr/local/lib/python3.11/dist-packages (from scikit-learn>=1.1.3->rdt>=1.17.0->sdv) (3.6.0)\n",
            "Requirement already satisfied: filelock in /usr/local/lib/python3.11/dist-packages (from torch>=2.0.0->ctgan>=0.11.0->sdv) (3.18.0)\n",
            "Requirement already satisfied: typing-extensions>=4.10.0 in /usr/local/lib/python3.11/dist-packages (from torch>=2.0.0->ctgan>=0.11.0->sdv) (4.14.0)\n",
            "Requirement already satisfied: networkx in /usr/local/lib/python3.11/dist-packages (from torch>=2.0.0->ctgan>=0.11.0->sdv) (3.5)\n",
            "Requirement already satisfied: jinja2 in /usr/local/lib/python3.11/dist-packages (from torch>=2.0.0->ctgan>=0.11.0->sdv) (3.1.6)\n",
            "Requirement already satisfied: fsspec in /usr/local/lib/python3.11/dist-packages (from torch>=2.0.0->ctgan>=0.11.0->sdv) (2025.3.2)\n",
            "Requirement already satisfied: nvidia-cuda-nvrtc-cu12==12.4.127 in /usr/local/lib/python3.11/dist-packages (from torch>=2.0.0->ctgan>=0.11.0->sdv) (12.4.127)\n",
            "Requirement already satisfied: nvidia-cuda-runtime-cu12==12.4.127 in /usr/local/lib/python3.11/dist-packages (from torch>=2.0.0->ctgan>=0.11.0->sdv) (12.4.127)\n",
            "Requirement already satisfied: nvidia-cuda-cupti-cu12==12.4.127 in /usr/local/lib/python3.11/dist-packages (from torch>=2.0.0->ctgan>=0.11.0->sdv) (12.4.127)\n",
            "Requirement already satisfied: nvidia-cudnn-cu12==9.1.0.70 in /usr/local/lib/python3.11/dist-packages (from torch>=2.0.0->ctgan>=0.11.0->sdv) (9.1.0.70)\n",
            "Requirement already satisfied: nvidia-cublas-cu12==12.4.5.8 in /usr/local/lib/python3.11/dist-packages (from torch>=2.0.0->ctgan>=0.11.0->sdv) (12.4.5.8)\n",
            "Requirement already satisfied: nvidia-cufft-cu12==11.2.1.3 in /usr/local/lib/python3.11/dist-packages (from torch>=2.0.0->ctgan>=0.11.0->sdv) (11.2.1.3)\n",
            "Requirement already satisfied: nvidia-curand-cu12==10.3.5.147 in /usr/local/lib/python3.11/dist-packages (from torch>=2.0.0->ctgan>=0.11.0->sdv) (10.3.5.147)\n",
            "Requirement already satisfied: nvidia-cusolver-cu12==11.6.1.9 in /usr/local/lib/python3.11/dist-packages (from torch>=2.0.0->ctgan>=0.11.0->sdv) (11.6.1.9)\n",
            "Requirement already satisfied: nvidia-cusparse-cu12==12.3.1.170 in /usr/local/lib/python3.11/dist-packages (from torch>=2.0.0->ctgan>=0.11.0->sdv) (12.3.1.170)\n",
            "Requirement already satisfied: nvidia-cusparselt-cu12==0.6.2 in /usr/local/lib/python3.11/dist-packages (from torch>=2.0.0->ctgan>=0.11.0->sdv) (0.6.2)\n",
            "Requirement already satisfied: nvidia-nccl-cu12==2.21.5 in /usr/local/lib/python3.11/dist-packages (from torch>=2.0.0->ctgan>=0.11.0->sdv) (2.21.5)\n",
            "Requirement already satisfied: nvidia-nvtx-cu12==12.4.127 in /usr/local/lib/python3.11/dist-packages (from torch>=2.0.0->ctgan>=0.11.0->sdv) (12.4.127)\n",
            "Requirement already satisfied: nvidia-nvjitlink-cu12==12.4.127 in /usr/local/lib/python3.11/dist-packages (from torch>=2.0.0->ctgan>=0.11.0->sdv) (12.4.127)\n",
            "Requirement already satisfied: triton==3.2.0 in /usr/local/lib/python3.11/dist-packages (from torch>=2.0.0->ctgan>=0.11.0->sdv) (3.2.0)\n",
            "Requirement already satisfied: sympy==1.13.1 in /usr/local/lib/python3.11/dist-packages (from torch>=2.0.0->ctgan>=0.11.0->sdv) (1.13.1)\n",
            "Requirement already satisfied: mpmath<1.4,>=1.1.0 in /usr/local/lib/python3.11/dist-packages (from sympy==1.13.1->torch>=2.0.0->ctgan>=0.11.0->sdv) (1.3.0)\n",
            "Requirement already satisfied: MarkupSafe>=2.0 in /usr/local/lib/python3.11/dist-packages (from jinja2->torch>=2.0.0->ctgan>=0.11.0->sdv) (3.0.2)\n"
          ]
        }
      ],
      "source": [
        "%pip install ctgan\n",
        "%pip install sdv"
      ]
    },
    {
      "cell_type": "markdown",
      "metadata": {
        "id": "7HA6ecxPRQy9"
      },
      "source": [
        "# Adjustment Risk Intelligence Analytics\n",
        "<p>\n",
        "<b>Markets Finance (Product Control) - Prediction of High-Risk Adjustments:</b> A predictive model that would flag potential 'high risk' adjustments considering multiple 'risk indicators' -- A multi-dimensional model that will predict the behaviour by considering linear factors.\n",
        "</p>"
      ]
    },
    {
      "cell_type": "markdown",
      "metadata": {
        "id": "cU6xyGNMRf6Z"
      },
      "source": [
        "### This notebook includes following steps.\n",
        "\n",
        "<ol>\n",
        "  <li>Importing necessary libraries</li>\n",
        "  <li>Defining Sampling, catagories and creating DataFrame with necessary columns</li>\n",
        "  <li>Using SDV and CTGAN Synthesizer to create sampling</li>\n",
        "  <li>Preparing/Splitting Data to train and test ML Models</li>\n",
        "  <li>Training Classical Machine Learning Models and determine weights</li>\n",
        "  <li>Further exploring Deep Learning Model Training on Data</li>\n",
        "</ol>"
      ]
    },
    {
      "cell_type": "markdown",
      "metadata": {
        "id": "cJmqmQc4VQfo"
      },
      "source": [
        "## 1. Importing Necessary Libraries"
      ]
    },
    {
      "cell_type": "code",
      "execution_count": null,
      "metadata": {
        "id": "IIuuNDZAaQYO"
      },
      "outputs": [],
      "source": [
        "import numpy as np\n",
        "import pandas as pd\n",
        "from datetime import timedelta, datetime\n",
        "import scipy.stats as ss"
      ]
    },
    {
      "cell_type": "markdown",
      "metadata": {
        "id": "S9D3YfgLVWYO"
      },
      "source": [
        "## 2. Defining Sampling\n",
        "\n",
        "Here we are defining n_sample which determines the number of total records we will have in synthetic data. Along with that we will provide some realistic values of each column which will be used to create a Data Frame."
      ]
    },
    {
      "cell_type": "code",
      "execution_count": null,
      "metadata": {
        "colab": {
          "base_uri": "https://localhost:8080/",
          "height": 501
        },
        "id": "T2RnKaBCamqI",
        "outputId": "e154fd6d-3f7e-402e-b72e-2f31b32a6442"
      },
      "outputs": [
        {
          "output_type": "stream",
          "name": "stdout",
          "text": [
            "Values > 270:  33094\n",
            "1650.0\n",
            "4995481\n",
            "500000\n"
          ]
        },
        {
          "output_type": "display_data",
          "data": {
            "text/plain": [
              "<Figure size 640x480 with 1 Axes>"
            ],
            "image/png": "[encoded data removed]"
          },
          "metadata": {}
        }
      ],
      "source": [
        "# Preparing exponential distribution for age\n",
        "n_samples=500000\n",
        "start_age=0\n",
        "end_age=700\n",
        "scale=100\n",
        "\n",
        "raw_values = np.random.exponential(scale=scale, size=5000000)\n",
        "scaled_values = np.floor(raw_values)\n",
        "shifted_values = scaled_values + start_age\n",
        "\n",
        "# only select shifted values that are less than 270\n",
        "age_values = shifted_values[shifted_values <= end_age]\n",
        "\n",
        "#randomly delete values from shifted_values such that only 50k rows remain\n",
        "delete_indices = np.random.choice(age_values.size, age_values.size - n_samples, replace=False)\n",
        "age = np.delete(age_values, delete_indices)\n",
        "\n",
        "# count shifted values that are = 270\n",
        "count_248 = np.count_nonzero(age > 270)\n",
        "print(\"Values > 270: \", count_248)\n",
        "print(max(shifted_values))\n",
        "print(age_values.size)\n",
        "print(age.size)\n",
        "\n",
        "\n",
        "# plot shifted_values\n",
        "import matplotlib.pyplot as plt\n",
        "plt.hist(age, bins=700)\n",
        "plt.show()\n"
      ]
    },
    {
      "cell_type": "code",
      "execution_count": null,
      "metadata": {
        "id": "9MuHKsijaMH2"
      },
      "outputs": [],
      "source": [
        "# 1. Synthetic Data Generation (500,000 rows)\n",
        "# Define cardinalities\n",
        "n_samples = 50_0000\n",
        "risk_probs = [1.00, 0.0, 0.0, 0.0]  # Not at Risk, Low, Medium, High\n",
        "\n",
        "# Helper for categorical draws\n",
        "def sample_category(categories, probs=None, size=n_samples):\n",
        "    return np.random.choice(categories, size=size, p=probs)\n",
        "\n",
        "# Define categories\n",
        "bus_date_types = ['Daily', 'Month End']\n",
        "msbk_ids = [f\"{i:06d}\" for i in range(100000, 100000+100)]\n",
        "account_types = ['BS', 'PnL', 'Other']\n",
        "acct_name_sl = ['Inventory', 'Brokerage Accrual', 'Trade Payables', 'Accrued Interest', 'Loans', 'Fees', 'Other']\n",
        "reason_codes = ['FOBO BREAK', 'Cash Breaks', 'Stock/Positions Breaks', 'Other SL breaks', 'Receivables', 'Fails', 'Frees']\n",
        "ledger_types = ['IFRS', 'USGAAP']\n",
        "commentaries = ['Unspecified', '']\n",
        "\n",
        "# currencies = ['USD', 'EUR', 'GBP', 'JPY', 'CHF', 'CAD', 'AUD']\n",
        "currencies = ['USD']\n",
        "\n",
        "account_name_gl = [f\"GL_{i}\" for i in range(10)] # Doing it for 10 GL account\n",
        "product_types = ['Common Stock - EQUITY', 'ETF - EQUITY', 'Bond - FIXED', 'Future', 'Option', 'Swap']\n",
        "\n",
        "# Generate raw table\n",
        "df = pd.DataFrame({\n",
        "    'BUS_DATE_TYPE': sample_category(bus_date_types, size=n_samples, probs=[0.6, 0.4]),\n",
        "    'AGE': np.delete(age_values, delete_indices),\n",
        "    'MSBK_ID': sample_category(msbk_ids),\n",
        "    'ACCOUNT_TYPE': sample_category(account_types),\n",
        "    'ACCT_NAME_SL': sample_category(acct_name_sl),\n",
        "    'REASON_CODE': sample_category(reason_codes),\n",
        "    'LEDGER_TYPE_CODE': sample_category(ledger_types),\n",
        "    'CCY_ID_TRANSACTION': sample_category(currencies),\n",
        "    'ACCOUNT_NAME_GL': sample_category(account_name_gl),\n",
        "    'AMOUNT': np.round(np.random.normal(loc=0, scale=1e5, size=n_samples), 2),\n",
        "    'PRODUCT_TYPE': sample_category(product_types),\n",
        "    'ITEM_AT_RISK': sample_category(['Not at Risk','Low Risk','Medium Risk','High Risk'], probs=risk_probs)\n",
        "})"
      ]
    },
    {
      "cell_type": "code",
      "execution_count": null,
      "metadata": {
        "colab": {
          "base_uri": "https://localhost:8080/",
          "height": 147
        },
        "id": "tTVX4YJ6fide",
        "outputId": "00e7eec7-d16a-4d72-dd91-d9424654dacc"
      },
      "outputs": [
        {
          "output_type": "execute_result",
          "data": {
            "text/plain": [
              "ITEM_AT_RISK\n",
              "Not at Risk    500000\n",
              "Name: count, dtype: int64"
            ],
            "text/html": [
              "<div>\n",
              "<style scoped>\n",
              "    .dataframe tbody tr th:only-of-type {\n",
              "        vertical-align: middle;\n",
              "    }\n",
              "\n",
              "    .dataframe tbody tr th {\n",
              "        vertical-align: top;\n",
              "    }\n",
              "\n",
              "    .dataframe thead th {\n",
              "        text-align: right;\n",
              "    }\n",
              "</style>\n",
              "<table border=\"1\" class=\"dataframe\">\n",
              "  <thead>\n",
              "    <tr style=\"text-align: right;\">\n",
              "      <th></th>\n",
              "      <th>count</th>\n",
              "    </tr>\n",
              "    <tr>\n",
              "      <th>ITEM_AT_RISK</th>\n",
              "      <th></th>\n",
              "    </tr>\n",
              "  </thead>\n",
              "  <tbody>\n",
              "    <tr>\n",
              "      <th>Not at Risk</th>\n",
              "      <td>500000</td>\n",
              "    </tr>\n",
              "  </tbody>\n",
              "</table>\n",
              "</div><br><label><b>dtype:</b> int64</label>"
            ]
          },
          "metadata": {},
          "execution_count": 8
        }
      ],
      "source": [
        "df['ITEM_AT_RISK'].value_counts()"
      ]
    },
    {
      "cell_type": "code",
      "execution_count": null,
      "metadata": {
        "colab": {
          "base_uri": "https://localhost:8080/",
          "height": 448
        },
        "id": "RTvDRYAfekro",
        "outputId": "c7a49522-7585-4131-a5ab-e26849035808"
      },
      "outputs": [
        {
          "output_type": "execute_result",
          "data": {
            "text/plain": [
              "<Axes: >"
            ]
          },
          "metadata": {},
          "execution_count": 9
        },
        {
          "output_type": "display_data",
          "data": {
            "text/plain": [
              "<Figure size 640x480 with 1 Axes>"
            ],
            "image/png": "[encoded data removed]"
          },
          "metadata": {}
        }
      ],
      "source": [
        "df['AMOUNT'].hist(bins=500)"
      ]
    },
    {
      "cell_type": "code",
      "execution_count": null,
      "metadata": {
        "colab": {
          "base_uri": "https://localhost:8080/",
          "height": 448
        },
        "id": "O9YyYRWSFPNC",
        "outputId": "3c5c9344-89c6-4ea5-eb96-0ac969fb94c5"
      },
      "outputs": [
        {
          "output_type": "execute_result",
          "data": {
            "text/plain": [
              "<Axes: >"
            ]
          },
          "metadata": {},
          "execution_count": 10
        },
        {
          "output_type": "display_data",
          "data": {
            "text/plain": [
              "<Figure size 640x480 with 1 Axes>"
            ],
            "image/png": "[encoded data removed]"
          },
          "metadata": {}
        }
      ],
      "source": [
        "df['AGE'].hist(bins=700)\n",
        "\n",
        "# df['AMOUNT'].value_counts()\n",
        "# df['age'].value_counts()\n",
        "# df['age'].value_counts()"
      ]
    },
    {
      "cell_type": "markdown",
      "metadata": {
        "id": "21JXi1KvFvbw"
      },
      "source": [
        "### Rule based data labeling for base data that we will feed to the CTGAN model to generate synthetic data"
      ]
    },
    {
      "cell_type": "markdown",
      "metadata": {
        "id": "pWR_O2ENHzqr"
      },
      "source": [
        "##### Rule 1: Any adjustment greater than 100k USD and age > 100 should be flagged as High Risk\n"
      ]
    },
    {
      "cell_type": "code",
      "execution_count": null,
      "metadata": {
        "id": "B9DGFnpwbPpV"
      },
      "outputs": [],
      "source": [
        "mask = (df['AGE']>100) & (df['AMOUNT'].abs()>=100000)\n",
        "df.loc[mask, 'ITEM_AT_RISK'] = 'High Risk'"
      ]
    },
    {
      "cell_type": "markdown",
      "metadata": {
        "id": "piw9ErRGHvQ3"
      },
      "source": [
        "##### Rule 2: Any adjustment greater than 100k USD and age >= 50 and age < 100 should be flagged as Medium Risk\n"
      ]
    },
    {
      "cell_type": "code",
      "execution_count": null,
      "metadata": {
        "id": "jjaNRKc7Grqq"
      },
      "outputs": [],
      "source": [
        "mask = (df['AGE']<100) & (df['AMOUNT'].abs()>=100000 & (df['AGE']>=50))\n",
        "df.loc[mask, 'ITEM_AT_RISK'] = 'Medium Risk'"
      ]
    },
    {
      "cell_type": "markdown",
      "metadata": {
        "id": "S7y4THIEH2u_"
      },
      "source": [
        "##### Rule 3: Any adjustment greater than 100k USD and age < 50 should be flagged as Low Risk\n"
      ]
    },
    {
      "cell_type": "code",
      "execution_count": null,
      "metadata": {
        "id": "igr9xX_lHOEt"
      },
      "outputs": [],
      "source": [
        "mask = (df['AGE']<50) & (df['AMOUNT'].abs()>=100000) & (df['AGE']>=30)\n",
        "df.loc[mask, 'ITEM_AT_RISK'] = 'Low Risk'"
      ]
    },
    {
      "cell_type": "markdown",
      "metadata": {
        "id": "MA8Gb378YNxp"
      },
      "source": [
        "### Reason code specific rules"
      ]
    },
    {
      "cell_type": "markdown",
      "metadata": {
        "id": "zjfoOrRJMgoJ"
      },
      "source": [
        "##### Rule 4: Any Cash Break, Stock and Position Break, Other SL breaks and Frees > 10k USD\n",
        "*   Not at risk: age 7-90\n",
        "*   Medium Risk: age 91-270\n",
        "*   High risk: age >270\n",
        "\n"
      ]
    },
    {
      "cell_type": "code",
      "execution_count": null,
      "metadata": {
        "id": "Na5Zm7WUMgoK"
      },
      "outputs": [],
      "source": [
        "reason_codes = ['Cash Breaks', 'Stock/Positions Breaks', 'Other SL breaks', 'Frees']\n",
        "\n",
        "mask = (df['REASON_CODE'].isin(reason_codes)) & (df['AGE']>=0) & (df['AGE']<=90)\n",
        "\n",
        "df.loc[mask, 'ITEM_AT_RISK'] = 'Not at Risk'\n",
        "\n",
        "mask = (df['AMOUNT'].abs()>=10000) & (df['REASON_CODE'].isin(reason_codes)) & (df['AGE']>=91) & (df['AGE']<=270)\n",
        "df.loc[mask, 'ITEM_AT_RISK'] = 'Medium Risk'\n",
        "\n",
        "mask = (df['AMOUNT'].abs()>=10000) & (df['REASON_CODE'].isin(reason_codes)) & (df['AGE']>270)\n",
        "df.loc[mask, 'ITEM_AT_RISK'] = 'High Risk'"
      ]
    },
    {
      "cell_type": "markdown",
      "metadata": {
        "id": "Fb81iwxMZL0g"
      },
      "source": [
        "##### Rule 5: Any FOBO break > 10k USD\n",
        "*   Low risk: age 7-90\n",
        "*   Medium Risk: age 91-270\n",
        "*   High risk: age >270\n"
      ]
    },
    {
      "cell_type": "code",
      "execution_count": null,
      "metadata": {
        "id": "mP-UEuySapvJ"
      },
      "outputs": [],
      "source": [
        "mask = (df['AMOUNT'].abs()>=10000) & (df['REASON_CODE']=='FOBO BREAK') & (df['AGE']>=7) & (df['AGE']<=90)\n",
        "df.loc[mask, 'ITEM_AT_RISK'] = 'Low Risk'\n",
        "\n",
        "mask = (df['AMOUNT'].abs()>=10000) & (df['REASON_CODE']=='FOBO BREAK') & (df['AGE']>=91) & (df['AGE']<=270)\n",
        "df.loc[mask, 'ITEM_AT_RISK'] = 'Medium Risk'\n",
        "\n",
        "mask = (df['AMOUNT'].abs()>=10000) & (df['REASON_CODE']=='FOBO BREAK') & (df['AGE']>270)\n",
        "df.loc[mask, 'ITEM_AT_RISK'] = 'High Risk'"
      ]
    },
    {
      "cell_type": "markdown",
      "metadata": {
        "id": "APsDuSnGMg-w"
      },
      "source": [
        "##### Rule 5: Any Fails, Receivables break > 10k USD\n",
        "*   Not at risk: age 7-90\n",
        "*   Low risk: age 91-180\n",
        "*   Medium Risk: age 181-270\n",
        "*   High risk: age >270\n"
      ]
    },
    {
      "cell_type": "code",
      "execution_count": null,
      "metadata": {
        "id": "NUQUeq8nMg-y"
      },
      "outputs": [],
      "source": [
        "reason_codes = ['Receivables', 'Fails']\n",
        "mask = (df['AMOUNT'].abs()>10000) & (df['REASON_CODE'].isin(reason_codes)) & (df['AGE']>=7) & (df['AGE']<=90)\n",
        "df.loc[mask, 'ITEM_AT_RISK'] = 'Not at Risk'\n",
        "\n",
        "mask = (df['AMOUNT'].abs()>10000) & (df['REASON_CODE'].isin(reason_codes)) & (df['AGE']>=91) & (df['AGE']<=180)\n",
        "df.loc[mask, 'ITEM_AT_RISK'] = 'Low Risk'\n",
        "\n",
        "mask = (df['AMOUNT'].abs()>10000) & (df['REASON_CODE'].isin(reason_codes)) & (df['AGE']>=181) & (df['AGE']<=270)\n",
        "df.loc[mask, 'ITEM_AT_RISK'] = 'Medium Risk'\n",
        "\n",
        "mask = (df['AMOUNT'].abs()>10000) & (df['REASON_CODE'].isin(reason_codes)) & (df['AGE']>270)\n",
        "df.loc[mask, 'ITEM_AT_RISK'] = 'High Risk'"
      ]
    },
    {
      "cell_type": "markdown",
      "metadata": {
        "id": "60tqivO2cLob"
      },
      "source": [
        "### Need to add more intricate rules -> GL/SL account specific, etc. IFRS type specific"
      ]
    },
    {
      "cell_type": "code",
      "execution_count": null,
      "metadata": {
        "id": "3KYdiWzQ22ZZ"
      },
      "outputs": [],
      "source": [
        "reason_codes = ['Receivables']\n",
        "mask = (df['REASON_CODE'].isin(reason_codes))\n",
        "df.loc[mask, 'ITEM_AT_RISK'] = 'High Risk'"
      ]
    },
    {
      "cell_type": "code",
      "source": [
        "# Adding randomness to the data\n",
        "high_idx = df.sample(frac=0.08, random_state=42).index\n",
        "df.loc[high_idx, 'ITEM_AT_RISK'] = np.random.choice(['Not at Risk', 'Low Risk', 'Medium Risk', 'High Risk'], size=len(high_idx))"
      ],
      "metadata": {
        "id": "uxJNuEjOCe3H"
      },
      "execution_count": null,
      "outputs": []
    },
    {
      "cell_type": "markdown",
      "metadata": {
        "id": "jKxN-YX6SY1T"
      },
      "source": [
        "##### Distribution in the end for item at risk"
      ]
    },
    {
      "cell_type": "code",
      "execution_count": null,
      "metadata": {
        "colab": {
          "base_uri": "https://localhost:8080/",
          "height": 241
        },
        "id": "TdKdYW3lfycA",
        "outputId": "ace2262e-974d-4aa1-8871-49ff28adc547"
      },
      "outputs": [
        {
          "output_type": "execute_result",
          "data": {
            "text/plain": [
              "ITEM_AT_RISK\n",
              "Not at Risk    0.421478\n",
              "Medium Risk    0.266386\n",
              "High Risk      0.198944\n",
              "Low Risk       0.113192\n",
              "Name: count, dtype: float64"
            ],
            "text/html": [
              "<div>\n",
              "<style scoped>\n",
              "    .dataframe tbody tr th:only-of-type {\n",
              "        vertical-align: middle;\n",
              "    }\n",
              "\n",
              "    .dataframe tbody tr th {\n",
              "        vertical-align: top;\n",
              "    }\n",
              "\n",
              "    .dataframe thead th {\n",
              "        text-align: right;\n",
              "    }\n",
              "</style>\n",
              "<table border=\"1\" class=\"dataframe\">\n",
              "  <thead>\n",
              "    <tr style=\"text-align: right;\">\n",
              "      <th></th>\n",
              "      <th>count</th>\n",
              "    </tr>\n",
              "    <tr>\n",
              "      <th>ITEM_AT_RISK</th>\n",
              "      <th></th>\n",
              "    </tr>\n",
              "  </thead>\n",
              "  <tbody>\n",
              "    <tr>\n",
              "      <th>Not at Risk</th>\n",
              "      <td>0.421478</td>\n",
              "    </tr>\n",
              "    <tr>\n",
              "      <th>Medium Risk</th>\n",
              "      <td>0.266386</td>\n",
              "    </tr>\n",
              "    <tr>\n",
              "      <th>High Risk</th>\n",
              "      <td>0.198944</td>\n",
              "    </tr>\n",
              "    <tr>\n",
              "      <th>Low Risk</th>\n",
              "      <td>0.113192</td>\n",
              "    </tr>\n",
              "  </tbody>\n",
              "</table>\n",
              "</div><br><label><b>dtype:</b> float64</label>"
            ]
          },
          "metadata": {},
          "execution_count": 19
        }
      ],
      "source": [
        "df['ITEM_AT_RISK'].value_counts()/n_samples"
      ]
    },
    {
      "cell_type": "markdown",
      "source": [
        "### Hyper parameter tuning"
      ],
      "metadata": {
        "id": "d5ICSheZEBMX"
      }
    },
    {
      "cell_type": "code",
      "execution_count": null,
      "metadata": {
        "id": "FjQUt0MOYE__",
        "colab": {
          "base_uri": "https://localhost:8080/"
        },
        "outputId": "a5071a36-2b81-4a41-d6fd-e2eb0b264833"
      },
      "outputs": [
        {
          "metadata": {
            "tags": null
          },
          "name": "stdout",
          "output_type": "stream",
          "text": [
            "Initializing CTGANSynthesizer with a single worker (n_jobs=1)...\n",
            "Training with generator_lr=0.001, discriminator_lr=0.001, batch_size=250, epochs=300\n",
            "Fitting CTGANSynthesizer on subsample...\n"
          ]
        },
        {
          "metadata": {
            "tags": null
          },
          "name": "stderr",
          "output_type": "stream",
          "text": [
            "/usr/local/lib/python3.11/dist-packages/sdv/single_table/base.py:162: FutureWarning: The 'SingleTableMetadata' is deprecated. Please use the new 'Metadata' class for synthesizers.\n",
            "  warnings.warn(DEPRECATION_MSG, FutureWarning)\n",
            "/usr/local/lib/python3.11/dist-packages/sdv/single_table/base.py:128: UserWarning: We strongly recommend saving the metadata using 'save_to_json' for replicability in future SDV versions.\n",
            "  warnings.warn(\n"
          ]
        }
      ],
      "source": [
        "# 2. Fit a CTGAN to capture multi-dimensional dependency\n",
        "from sdv.single_table import CTGANSynthesizer\n",
        "from sdv.metadata import SingleTableMetadata\n",
        "\n",
        "# 3. Prepare ML Model Pipeline\n",
        "from sklearn.model_selection import train_test_split\n",
        "from sklearn.preprocessing import OneHotEncoder, StandardScaler\n",
        "from sklearn.compose import ColumnTransformer\n",
        "from sklearn.pipeline import Pipeline\n",
        "from sklearn.linear_model import LogisticRegression\n",
        "from xgboost import XGBClassifier\n",
        "from lightgbm import LGBMClassifier\n",
        "from sklearn.svm import SVC\n",
        "from sklearn.metrics import classification_report,accuracy_score\n",
        "import tensorflow as tf\n",
        "from tensorflow.keras import layers, models\n",
        "\n",
        "\n",
        "def train_model(df, epochs, generator_lr, discriminator_lr, batch_size):\n",
        "  training_data_size = 100000\n",
        "\n",
        "  #print(\"Subsampling dataset for CTGAN training to reduce memory usage...\")\n",
        "  #train_df = df.sample(n=500_00, random_state=42)\n",
        "\n",
        "  metadata = SingleTableMetadata()\n",
        "  metadata.detect_from_dataframe(data=df)\n",
        "\n",
        "  print(\"Initializing CTGANSynthesizer with a single worker (n_jobs=1)...\")\n",
        "  print(f\"Training with generator_lr={generator_lr}, discriminator_lr={discriminator_lr}, batch_size={batch_size}, epochs={epochs}\")\n",
        "  ctgan = CTGANSynthesizer(epochs=epochs, metadata=metadata, cuda=True, generator_lr=generator_lr, discriminator_lr=discriminator_lr, batch_size=batch_size)\n",
        "  print(\"Fitting CTGANSynthesizer on subsample...\")\n",
        "  ctgan.fit(df)\n",
        "\n",
        "  print(\"Sampling synthetic data...\")\n",
        "  synthetic_df = ctgan.sample(training_data_size)\n",
        "  df_copy = synthetic_df.copy()\n",
        "\n",
        "  # Split\n",
        "  label_map = {'Not at Risk': 0, 'Low Risk': 1, 'Medium Risk': 2, 'High Risk': 3}\n",
        "\n",
        "  X = df_copy.drop('ITEM_AT_RISK', axis=1)\n",
        "  y = df_copy['ITEM_AT_RISK'].map(label_map)\n",
        "\n",
        "  X_train, X_test, y_train, y_test = train_test_split(\n",
        "      X, y, stratify=y, test_size=0.05, random_state=42\n",
        "  )\n",
        "  # Preprocessing\n",
        "  cat_cols = X.select_dtypes('object').columns.tolist()\n",
        "  num_cols = X.select_dtypes('number').columns.tolist()\n",
        "  preprocessor = ColumnTransformer([\n",
        "      ('num', StandardScaler(), num_cols),\n",
        "      ('cat', OneHotEncoder(handle_unknown='ignore'), cat_cols)\n",
        "  ])\n",
        "\n",
        "  # Classical Models\n",
        "  models = {\n",
        "      'logistic_regression': LogisticRegression(max_iter=1000),\n",
        "      'xgboost': XGBClassifier(depth=12, eval_metric='mlogloss'),\n",
        "      'lightgbm': LGBMClassifier(),\n",
        "      # 'svm': SVC(kernel='rbf', C=1.0, gamma='scale')\n",
        "  }\n",
        "\n",
        "  for name, clf in models.items():\n",
        "      pipe = Pipeline([('pre', preprocessor), ('clf', clf)])\n",
        "      pipe.fit(X_train, y_train)\n",
        "      preds = pipe.predict(X_test)\n",
        "      print(name)\n",
        "      print(classification_report(y_test, preds))\n",
        "      current_accuracy = accuracy_score(y_test, preds) # Calculate and store accuracy\n",
        "      print(current_accuracy)\n",
        "\n",
        "  return pipe, current_accuracy\n",
        "\n",
        "generator_lr_values = [1e-3, 1e-4, 1e-5]\n",
        "discriminator_lr_values = [1e-3, 1e-4, 1e-5]\n",
        "batch_size_values = [250]\n",
        "epochs_values = [300, 500, 700]\n",
        "\n",
        "best_model = []\n",
        "best_accuracy = 0\n",
        "best_params = {}\n",
        "\n",
        "for generator_lr in generator_lr_values:\n",
        "    for discriminator_lr in discriminator_lr_values:\n",
        "        for batch_size in batch_size_values:\n",
        "            for epochs in epochs_values:\n",
        "                #print(f\"Training with generator_lr={generator_lr}, discriminator_lr={discriminator_lr}, batch_size={batch_size}, epochs={epochs}\")\n",
        "                model, current_run_accuracy  = train_model(df, epochs, generator_lr, discriminator_lr, batch_size)\n",
        "                if current_run_accuracy  > best_accuracy:\n",
        "                    best_accuracy = current_run_accuracy\n",
        "                    best_model = model\n",
        "                    best_params = {\n",
        "                        'generator_lr': generator_lr,\n",
        "                        'discriminator_lr': discriminator_lr,\n",
        "                        'batch_size': batch_size,\n",
        "                        'epochs': epochs\n",
        "                    }\n",
        "                    print(f\"New best model with accuracy {best_accuracy} and parameters {best_params}\")"
      ]
    },
    {
      "cell_type": "markdown",
      "metadata": {
        "id": "4l8hjAVQi_-4"
      },
      "source": [
        "## 3. Data augmentation using CTGAN\n",
        "\n",
        "Here we will use Synthetic Data Vault (SDV) and Conditional Generative Adversirial Network (CTGAN), a collection of deep learning generative models, to generate data over 100 epochs. This iterative process ensures high quality and evenly distributed data is generated for further model training and testing."
      ]
    },
    {
      "cell_type": "code",
      "execution_count": null,
      "metadata": {
        "id": "5VGcsonCHt1y"
      },
      "outputs": [],
      "source": [
        "\n",
        "# 2. Fit a CTGAN to capture multi-dimensional dependency\n",
        "from sdv.single_table import CTGANSynthesizer\n",
        "from sdv.metadata import SingleTableMetadata\n",
        "\n",
        "training_data_size = 500000\n",
        "\n",
        "#print(\"Subsampling dataset for CTGAN training to reduce memory usage...\")\n",
        "#train_df = df.sample(n=500_00, random_state=42)\n",
        "\n",
        "metadata = SingleTableMetadata()\n",
        "metadata.detect_from_dataframe(data=df)\n",
        "\n",
        "print(\"Initializing CTGANSynthesizer with a single worker (n_jobs=1)...\")\n",
        "ctgan = CTGANSynthesizer(epochs=1, metadata=metadata, cuda=True, generator_lr=1e-3, discriminator_lr=1e-3, batch_size=250)\n",
        "print(\"Fitting CTGANSynthesizer on subsample...\")\n",
        "ctgan.fit(df)\n",
        "\n",
        "print(\"Sampling synthetic data...\")\n",
        "synthetic_df = ctgan.sample(training_data_size)"
      ]
    },
    {
      "cell_type": "markdown",
      "metadata": {
        "id": "3upXjIbki-ov"
      },
      "source": [
        "#### This CTGAN loss function indicates how generated data over each epoch is improving.\n",
        "\n",
        "\n",
        "\n",
        "* Discriminator loss close to zero and fluctuating means its not able to distinguish between synthetic and real data\n",
        "* Negative generator loss means synthetic data is increasingly better representation of the real data\n",
        "\n"
      ]
    },
    {
      "cell_type": "code",
      "execution_count": null,
      "metadata": {
        "id": "nrHJ2MoWycha"
      },
      "outputs": [],
      "source": [
        "# Discriminator loss close to zero and fluctuating means its not able to distinguish between synthetic and real data\n",
        "# Negative generator loss means synthetic data is increasingly better representation of the real data\n",
        "\n",
        "fig = ctgan.get_loss_values_plot()\n",
        "fig.show()"
      ]
    },
    {
      "cell_type": "markdown",
      "metadata": {
        "id": "2XLZvwYUkpHg"
      },
      "source": [
        "#### Sample of Generated Data"
      ]
    },
    {
      "cell_type": "code",
      "execution_count": null,
      "metadata": {
        "id": "gOSOjrWRoJVU"
      },
      "outputs": [],
      "source": [
        "synthetic_df"
      ]
    },
    {
      "cell_type": "code",
      "execution_count": null,
      "metadata": {
        "id": "nZ848LZvhNNy"
      },
      "outputs": [],
      "source": [
        "synthetic_df['ITEM_AT_RISK'].value_counts()/synthetic_df.shape[0]"
      ]
    },
    {
      "cell_type": "code",
      "execution_count": null,
      "metadata": {
        "id": "kRlF7M9rkTTr"
      },
      "outputs": [],
      "source": [
        "df.info()"
      ]
    },
    {
      "cell_type": "markdown",
      "metadata": {
        "id": "43vNdZcck_mF"
      },
      "source": [
        "## 4. Preparing data to feed Machine Learning (ML) models\n",
        "\n",
        "Here note that we will divide the test and training data into 80/20 ratio and also map the output varaible (IAR) into numerical identifier."
      ]
    },
    {
      "cell_type": "markdown",
      "metadata": {
        "id": "67icTN8vld6y"
      },
      "source": [
        "## 5. Training of data on different Machine Learning (ML) models.\n"
      ]
    },
    {
      "cell_type": "code",
      "execution_count": null,
      "metadata": {
        "id": "qnW68YKbboZ5"
      },
      "outputs": [],
      "source": [
        "# 3. Prepare ML Model Pipeline\n",
        "from sklearn.model_selection import train_test_split\n",
        "from sklearn.preprocessing import OneHotEncoder, StandardScaler\n",
        "\n",
        "from sklearn.compose import ColumnTransformer\n",
        "from sklearn.pipeline import Pipeline\n",
        "from sklearn.linear_model import LogisticRegression\n",
        "from xgboost import XGBClassifier\n",
        "from lightgbm import LGBMClassifier\n",
        "from sklearn.svm import SVC\n",
        "from sklearn.metrics import classification_report,accuracy_score\n",
        "import tensorflow as tf\n",
        "from tensorflow.keras import layers, models\n",
        "\n",
        "df_copy = df.copy()\n",
        "\n",
        "# Split\n",
        "label_map = {'Not at Risk': 0, 'Low Risk': 1, 'Medium Risk': 2, 'High Risk': 3}\n",
        "\n",
        "X = df_copy.drop('ITEM_AT_RISK', axis=1)\n",
        "y = df_copy['ITEM_AT_RISK'].map(label_map)\n",
        "\n",
        "X_train, X_test, y_train, y_test = train_test_split(\n",
        "    X, y, stratify=y, test_size=0.05, random_state=42\n",
        ")\n",
        "# Preprocessing\n",
        "cat_cols = X.select_dtypes('object').columns.tolist()\n",
        "num_cols = X.select_dtypes('number').columns.tolist()\n",
        "preprocessor = ColumnTransformer([\n",
        "    ('num', StandardScaler(), num_cols),\n",
        "    ('cat', OneHotEncoder(handle_unknown='ignore'), cat_cols)\n",
        "])"
      ]
    },
    {
      "cell_type": "code",
      "execution_count": null,
      "metadata": {
        "id": "2irNTz_qbUEq"
      },
      "outputs": [],
      "source": [
        "# Classical Models\n",
        "models = {\n",
        "    'logistic_regression': LogisticRegression(max_iter=1000),\n",
        "    'xgboost': XGBClassifier(),\n",
        "    'lightgbm': LGBMClassifier(metric='multi_logloss', boosting_type='gbdt', num_leaves=31),\n",
        "    # 'svm': SVC(kernel='rbf', C=1.0, gamma='scale')\n",
        "}\n",
        "\n",
        "for name, clf in models.items():\n",
        "    pipe = Pipeline([('pre', preprocessor), ('clf', clf)])\n",
        "    pipe.fit(X_train, y_train)\n",
        "    preds = pipe.predict(X_test)\n",
        "    print(name)\n",
        "    print(classification_report(y_test, preds))"
      ]
    },
    {
      "cell_type": "code",
      "source": [
        "accuracies = [0.8088, 0.9196, 0.94916]\n",
        "\n",
        "bars = plt.bar(model_names, accuracies, color=sns.color_palette('Greens_d'))\n",
        "plt.ylim(0, 1)\n",
        "plt.title('Overall Model Accuracy Comparison')\n",
        "plt.xlabel('Model')\n",
        "plt.ylabel('Accuracy')\n",
        "\n",
        "# Add reference values on bars\n",
        "for bar in bars:\n",
        "    yval = bar.get_height()\n",
        "    plt.text(bar.get_x() + bar.get_width()/2.0, yval, f'{yval:.4f}', va='bottom', ha='center')\n",
        "\n",
        "plt.show()"
      ],
      "metadata": {
        "id": "EKrCzPPvZWxh"
      },
      "execution_count": null,
      "outputs": []
    },
    {
      "cell_type": "code",
      "source": [
        "# prompt: Pick each model in the pipeline and generate confusion matrix, label accuracy plot for each of them. Use seaborn for this task and generate good looking plots with warm/green palette colors. Finally, prepare a last model comparison plots for accuracies.\n",
        "# Before making plots, predicted values to corresponding label using the following label map\n",
        "# label_map = {'Not at Risk': 0, 'Low Risk': 1, 'Medium Risk': 2, 'High Risk': 3}\n",
        "# This should be separated apart properly. Nothing should look cluttered/ crammed in. For accuracy plots add reference values on the bars. Also, keep a dark background and not white.\n",
        "\n",
        "import seaborn as sns\n",
        "from sklearn.metrics import confusion_matrix\n",
        "import matplotlib.pyplot as plt\n",
        "\n",
        "# Set plot style\n",
        "plt.style.use('dark_background')\n",
        "\n",
        "# Reverse the label map for plotting\n",
        "reverse_label_map = {v: k for k, v in label_map.items()}\n",
        "\n",
        "model_accuracies = {}\n",
        "\n",
        "for name, clf in models.items():\n",
        "    pipe = Pipeline([('pre', preprocessor), ('clf', clf)])\n",
        "    # pipe.fit(X_train, y_train)\n",
        "    preds = pipe.predict(X_test)\n",
        "\n",
        "    print(f\"\\n--- Results for {name} ---\")\n",
        "    print(classification_report(y_test, preds))\n",
        "\n",
        "    # Store accuracy for comparison\n",
        "    accuracy = accuracy_score(y_test, preds)\n",
        "    model_accuracies[name] = accuracy\n",
        "    print(f\"Accuracy: {accuracy:.4f}\")\n",
        "\n",
        "    # Confusion Matrix\n",
        "    cm = confusion_matrix(y_test, preds)\n",
        "    plt.figure(figsize=(8, 6))\n",
        "    sns.heatmap(cm, annot=True, fmt='d', cmap='Greens',\n",
        "                xticklabels=reverse_label_map.values(),\n",
        "                yticklabels=reverse_label_map.values())\n",
        "    plt.title(f'Confusion Matrix - {name}')\n",
        "    plt.xlabel('Predicted Label')\n",
        "    plt.ylabel('True Label')\n",
        "    plt.show()\n",
        "\n",
        "    # Label Accuracy Plot\n",
        "    class_correct = np.diag(cm)\n",
        "    class_total = cm.sum(axis=1)\n",
        "    class_accuracy = class_correct / class_total if class_total.sum() > 0 else np.zeros_like(class_correct)\n",
        "\n",
        "    plt.figure(figsize=(8, 6))\n",
        "    bars = plt.bar(reverse_label_map.values(), class_accuracy, color=sns.color_palette('Greens_d'))\n",
        "    plt.ylim(0, 1)\n",
        "    plt.title(f'Label Accuracy - {name}')\n",
        "    plt.xlabel('Risk Category')\n",
        "    plt.ylabel('Accuracy')\n",
        "\n",
        "    # Add reference values on bars\n",
        "    for bar in bars:\n",
        "        yval = bar.get_height()\n",
        "        plt.text(bar.get_x() + bar.get_width()/2.0, yval, f'{yval:.2f}', va='bottom', ha='center')\n",
        "\n",
        "    plt.show()\n",
        "\n",
        "\n",
        "# Model Comparison Plot for Overall Accuracies\n",
        "plt.figure(figsize=(10, 7))\n",
        "model_names = list(model_accuracies.keys())\n",
        "accuracies = [0.8088, 0.9296, 0.94916]\n",
        "\n",
        "bars = plt.bar(model_names, accuracies, color=sns.color_palette('Greens_d'))\n",
        "plt.ylim(0, 1)\n",
        "plt.title('Overall Model Accuracy Comparison')\n",
        "plt.xlabel('Model')\n",
        "plt.ylabel('Accuracy')\n",
        "\n",
        "# Add reference values on bars\n",
        "for bar in bars:\n",
        "    yval = bar.get_height()\n",
        "    plt.text(bar.g;et_x() + bar.get_width()/2.0, yval, f'{yval:.4f}', va='bottom', ha='center')\n",
        "\n",
        "plt.show()\n",
        "\n"
      ],
      "metadata": {
        "id": "nnnP55LbPWRE"
      },
      "execution_count": null,
      "outputs": []
    },
    {
      "cell_type": "code",
      "source": [
        "# prompt: Pick each model in the pipeline and generate confusion matrix, label accuracy plot for each of them. Use seaborn for this task and generate good looking plots with warm/green palette colors. Finally, prepare a last model comparison plots for accuracies. This should be separated apart properly. Nothing should look cluttered/ crammed in. For accuracy plots add reference values on the bars. Also, keep a dark background and not white.\n",
        "\n",
        "import matplotlib.pyplot as plt\n",
        "import seaborn as sns\n",
        "from sklearn.metrics import confusion_matrix, accuracy_score\n",
        "\n",
        "# Set dark background for plots\n",
        "plt.style.use('dark_background')\n",
        "\n",
        "# Dictionary to store accuracy scores for model comparison\n",
        "model_accuracies = {}\n",
        "\n",
        "# Loop through each trained model\n",
        "for name, clf in models.items():\n",
        "    # Retrain the pipeline with the current classifier (already done in preceding code, but re-running to get predictions)\n",
        "    pipe = Pipeline([('pre', preprocessor), ('clf', clf)])\n",
        "    pipe.fit(X_train, y_train)\n",
        "    preds = pipe.predict(X_test)\n",
        "\n",
        "    print(f\"\\n--- Analysis for {name} ---\")\n",
        "\n",
        "    # Calculate Confusion Matrix\n",
        "    cm = confusion_matrix(y_test, preds)\n",
        "    plt.figure(figsize=(8, 6))\n",
        "    sns.heatmap(cm, annot=True, fmt='d', cmap='YlGnBu',\n",
        "                xticklabels=label_map.keys(), yticklabels=label_map.keys())\n",
        "    plt.title(f'Confusion Matrix for {name}')\n",
        "    plt.xlabel('Predicted Label')\n",
        "    plt.ylabel('True Label')\n",
        "    plt.show()\n",
        "\n",
        "    # Calculate Label Accuracy\n",
        "    label_accuracy = {}\n",
        "    for label, idx in label_map.items():\n",
        "        true_positives = cm[idx, idx]\n",
        "        total_for_label = np.sum(cm[idx, :])\n",
        "        label_accuracy[label] = true_positives / total_for_label if total_for_label > 0 else 0\n",
        "\n",
        "    labels = list(label_accuracy.keys())\n",
        "    accuracies = list(label_accuracy.values())\n",
        "\n",
        "    plt.figure(figsize=(8, 6))\n",
        "    sns.barplot(x=labels, y=accuracies, palette='YlGnBu')\n",
        "    plt.title(f'Label Accuracy for {name}')\n",
        "    plt.ylabel('Accuracy')\n",
        "    plt.ylim(0, 1.0)\n",
        "\n",
        "    # Add accuracy values on bars\n",
        "    for i, v in enumerate(accuracies):\n",
        "        plt.text(i, v + 0.02, f'{v:.2f}', ha='center', va='bottom')\n",
        "\n",
        "    plt.show()\n",
        "\n",
        "    # Store overall accuracy for comparison\n",
        "    model_accuracies[name] = accuracy_score(y_test, preds)\n",
        "\n",
        "\n",
        "# --- Model Comparison ---\n",
        "print(\"\\n--- Model Comparison ---\")\n",
        "\n",
        "model_names = list(model_accuracies.keys())\n",
        "overall_accuracies = list(model_accuracies.values())\n",
        "\n",
        "plt.figure(figsize=(10, 6))\n",
        "sns.barplot(x=model_names, y=overall_accuracies, palette='YlGnBu')\n",
        "plt.title('Overall Model Accuracy Comparison')\n",
        "plt.ylabel('Accuracy')\n",
        "plt.ylim(0, 1.0)\n",
        "\n",
        "# Add accuracy values on bars\n",
        "for i, v in enumerate(overall_accuracies):\n",
        "    plt.text(i, v + 0.02, f'{v:.4f}', ha='center', va='bottom')\n",
        "\n",
        "plt.show()"
      ],
      "metadata": {
        "id": "LqWMGwYlKUtx"
      },
      "execution_count": null,
      "outputs": []
    },
    {
      "cell_type": "code",
      "source": [
        "# prompt: # prompt: Prepare plots for XGBoost and LightBGM models regarding there label accuracies and overall accuracies and confusion matrices and use seaborn to make diagram look pretty\n",
        "\n",
        "import seaborn as sns\n",
        "from sklearn.metrics import confusion_matrix\n",
        "\n",
        "# Function to plot confusion matrix\n",
        "def plot_confusion_matrix(y_true, y_pred, model_name):\n",
        "    cm = confusion_matrix(y_true, y_pred)\n",
        "    plt.figure(figsize=(8, 6))\n",
        "    sns.heatmap(cm, annot=True, fmt='d', cmap='Blues', xticklabels=label_map.keys(), yticklabels=label_map.keys())\n",
        "    plt.xlabel('Predicted Label')\n",
        "    plt.ylabel('True Label')\n",
        "    plt.title(f'Confusion Matrix - {model_name}')\n",
        "    plt.show()\n",
        "\n",
        "# Train the models and make predictions\n",
        "model_results = {}\n",
        "\n",
        "for name, clf in models.items():\n",
        "    pipe = Pipeline([('pre', preprocessor), ('clf', clf)])\n",
        "    pipe.fit(X_train, y_train)\n",
        "    preds = pipe.predict(X_test)\n",
        "    report = classification_report(y_test, preds, output_dict=True)\n",
        "    model_results[name] = {\n",
        "        'classification_report': report,\n",
        "        'predictions': preds\n",
        "    }\n",
        "\n",
        "# Extract accuracies and plot\n",
        "model_names = []\n",
        "overall_accuracies = []\n",
        "label_accuracies = {label: [] for label in label_map.keys()}\n",
        "\n",
        "for name, results in model_results.items():\n",
        "    model_names.append(name)\n",
        "    overall_accuracies.append(results['classification_report']['accuracy'])\n",
        "    for label, label_index in label_map.items():\n",
        "        # Ensure the label exists in the report before accessing 'recall'\n",
        "        if str(label_index) in results['classification_report']:\n",
        "            label_accuracies[label].append(results['classification_report'][str(label_index)]['recall'])\n",
        "        else:\n",
        "            label_accuracies[label].append(0) # Append 0 if label is not in predictions/true\n",
        "\n",
        "# Plot overall accuracy\n",
        "plt.figure(figsize=(10, 6))\n",
        "sns.barplot(x=model_names, y=overall_accuracies)\n",
        "plt.ylabel('Overall Accuracy')\n",
        "plt.title('Overall Accuracy of XGBoost and LightGBM Models')\n",
        "plt.ylim(0, 1) # Accuracy is between 0 and 1\n",
        "plt.show()\n",
        "\n",
        "# Plot label accuracies\n",
        "x = np.arange(len(model_names))\n",
        "width = 0.15\n",
        "\n",
        "fig, ax = plt.subplots(figsize=(12, 7))\n",
        "\n",
        "for i, (label, accuracies) in enumerate(label_accuracies.items()):\n",
        "    rects = ax.bar(x + i * width, accuracies, width, label=label)\n",
        "    ax.bar_label(rects, padding=3)\n",
        "\n",
        "ax.set_ylabel('Label Accuracy (Recall)')\n",
        "ax.set_title('Label Accuracies (Recall) by Model')\n",
        "ax.set_xticks(x + width * (len(label_map) - 1) / 2)\n",
        "ax.set_xticklabels(model_names)\n",
        "ax.set_ylim(0, 1.1)\n",
        "ax.legend(title='Risk Level')\n",
        "plt.show()\n",
        "\n",
        "\n",
        "# Plot confusion matrices for XGBoost and LightGBM\n",
        "if 'xgboost' in model_results:\n",
        "    plot_confusion_matrix(y_test, model_results['xgboost']['predictions'], 'XGBoost')\n",
        "\n",
        "if 'lightgbm' in model_results:\n",
        "    plot_confusion_matrix(y_test, model_results['lightgbm']['predictions'], 'LightGBM')"
      ],
      "metadata": {
        "id": "RQ4Uz8a-E_4F"
      },
      "execution_count": null,
      "outputs": []
    },
    {
      "cell_type": "code",
      "execution_count": null,
      "metadata": {
        "id": "6GSup3C1K5P5"
      },
      "outputs": [],
      "source": [
        "X_test.info()"
      ]
    },
    {
      "cell_type": "code",
      "execution_count": null,
      "metadata": {
        "id": "NpB7RVIaFjNe"
      },
      "outputs": [],
      "source": [
        "# save the pipeline for lightgbm\n",
        "pipe = Pipeline([('pre', preprocessor), ('clf', models['lightgbm'])])\n",
        "\n",
        "\n",
        "import joblib\n",
        "joblib.dump(pipe, 'lightgbm_model.pkl')"
      ]
    },
    {
      "cell_type": "code",
      "execution_count": null,
      "metadata": {
        "id": "uSfIRvrpCGZ4"
      },
      "outputs": [],
      "source": [
        "\n",
        "# save model as pickel file to load it later\n",
        "import pickle\n",
        "filename = 'finalized_model.sav'\n",
        "lgmModel = models.get('lightgbm')\n",
        "pickle.dump(lgmModel, open(filename, 'wb'))\n"
      ]
    },
    {
      "cell_type": "code",
      "execution_count": null,
      "metadata": {
        "id": "nlVMhzuwhsPT"
      },
      "outputs": [],
      "source": [
        "# Deep Learning Model\n",
        "# Encode labels\n",
        "y_map = {'Not at Risk':0, 'Low Risk':1, 'Medium Risk':2, 'High Risk':3}\n",
        "y_train_enc = y_train.map(y_map)\n",
        "y_test_enc = y_test.map(y_map)\n",
        "\n",
        "dense_input = layers.Input(shape=(len(num_cols),), name='num_input')\n",
        "cat_input = layers.Input(shape=(len(cat_cols),), name='cat_input')\n",
        "# Simple embed + dense for cats\n",
        "# Skipping embedding for brevity: one-hot to embed\n",
        "\n",
        "concat = layers.Concatenate()([dense_input, cat_input])\n",
        "x = layers.Dense(128, activation='relu')(concat)\n",
        "x = layers.Dense(64, activation='relu')(x)\n",
        "out = layers.Dense(4, activation='softmax')(x)\n",
        "model = models.Model([dense_input, cat_input], out)\n",
        "model.compile(optimizer='adam', loss='sparse_categorical_crossentropy', metrics=['accuracy'])\n",
        "\n",
        "# Prepare inputs (dummy for cats)\n",
        "X_train_num = X_train[num_cols].values\n",
        "X_test_num = X_test[num_cols].values\n",
        "X_train_cat = OneHotEncoder(handle_unknown='ignore').fit_transform(X_train[cat_cols]).toarray()\n",
        "X_test_cat = OneHotEncoder(handle_unknown='ignore').fit_transform(X_test[cat_cols]).toarray()\n",
        "\n",
        "model.fit([X_train_num, X_train_cat], y_train_enc, epochs=5, batch_size=1024, validation_split=0.1)\n",
        "print(model.evaluate([X_test_num, X_test_cat], y_test_enc))"
      ]
    },
    {
      "cell_type": "code",
      "execution_count": null,
      "metadata": {
        "id": "DIgnes0Ghydj"
      },
      "outputs": [],
      "source": [
        "# 4. Online Learning Stub (using River)\n",
        "# from river import ensemble, preprocessing, metrics\n",
        "# model_online = ensemble.AdaptiveRandomForestClassifier()\n",
        "# for x_i, y_i in zip(X_train.to_dict(orient='records'), y_train):\n",
        "#     y_pred = model_online.predict_one(x_i)\n",
        "#     model_online.learn_one(x_i, y_i)\n",
        "\n",
        "# 5. Commentary Generation Stub\n",
        "# def explain_prediction(record):\n",
        "#     prompt = f\"Explain risk factors leading to classification for: {record}\"\n",
        "#     response = openai.ChatCompletion.create(...)\n",
        "#     return response\n",
        "\n",
        "# Save to disk\n",
        "df.to_csv('synthetic_adjustments.csv', index=False)\n",
        "print(\"Done\")"
      ]
    }
  ],
  "metadata": {
    "colab": {
      "provenance": [],
      "include_colab_link": true
    },
    "kernelspec": {
      "display_name": "Python 3",
      "name": "python3"
    },
    "language_info": {
      "name": "python"
    }
  },
  "nbformat": 4,
  "nbformat_minor": 0
}